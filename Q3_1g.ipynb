{
  "nbformat": 4,
  "nbformat_minor": 0,
  "metadata": {
    "colab": {
      "provenance": []
    },
    "kernelspec": {
      "name": "python3",
      "display_name": "Python 3"
    },
    "language_info": {
      "name": "python"
    }
  },
  "cells": [
    {
      "cell_type": "markdown",
      "metadata": {
        "id": "dE02oyOjEjPa"
      },
      "source": [
        "1.Apply the measure of Central Tendency"
      ]
    },
    {
      "cell_type": "code",
      "execution_count": 1,
      "metadata": {
        "colab": {
          "base_uri": "https://localhost:8080/"
        },
        "id": "b_SJPJRqnLPG",
        "outputId": "5a58e094-868f-4591-d80a-a5d32ab4bbb3"
      },
      "outputs": [
        {
          "output_type": "stream",
          "name": "stdout",
          "text": [
            "Cars    9.547127e+06\n",
            "dtype: float64\n"
          ]
        }
      ],
      "source": [
        "import pandas as pn\n",
        "data = pn.read_csv('Cars.csv')\n",
        "x = data[['Cars']]\n",
        "# print(x)\n",
        "df = pn.DataFrame(x)\n",
        "print(df.mean())"
      ]
    },
    {
      "cell_type": "markdown",
      "source": [
        "Median"
      ],
      "metadata": {
        "id": "o3FC8jKEnlOW"
      }
    },
    {
      "cell_type": "code",
      "source": [
        "print(df.median())"
      ],
      "metadata": {
        "colab": {
          "base_uri": "https://localhost:8080/"
        },
        "id": "LcLh_Bs0noVW",
        "outputId": "58811e65-b235-48b5-de86-e941e67a86b0"
      },
      "execution_count": 2,
      "outputs": [
        {
          "output_type": "stream",
          "name": "stdout",
          "text": [
            "Cars    9109855.0\n",
            "dtype: float64\n"
          ]
        }
      ]
    },
    {
      "cell_type": "markdown",
      "metadata": {
        "id": "r-vzWgbkVeZ7"
      },
      "source": [
        "Mode:\n"
      ]
    },
    {
      "cell_type": "code",
      "execution_count": 3,
      "metadata": {
        "colab": {
          "base_uri": "https://localhost:8080/"
        },
        "id": "Kkwv4DUvVfYT",
        "outputId": "a6b76205-b198-4cfc-c36a-6c8fa0fad74f"
      },
      "outputs": [
        {
          "output_type": "stream",
          "name": "stdout",
          "text": [
            "ModeResult(mode=array([[5297219]]), count=array([[1]]))\n"
          ]
        }
      ],
      "source": [
        "# print(df[81:86])\n",
        "from scipy import stats\n",
        "# data = [1,2,3,4,5]\n",
        "# ans = stats.mode(data)\n",
        "#mode for data from 81 st cell to 100th cell\n",
        "ans = stats.mode(df)\n",
        "print(ans)"
      ]
    }
  ]
}
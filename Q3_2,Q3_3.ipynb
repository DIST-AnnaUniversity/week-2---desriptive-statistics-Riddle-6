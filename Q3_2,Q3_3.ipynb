{
  "nbformat": 4,
  "nbformat_minor": 0,
  "metadata": {
    "colab": {
      "provenance": []
    },
    "kernelspec": {
      "name": "python3",
      "display_name": "Python 3"
    },
    "language_info": {
      "name": "python"
    }
  },
  "cells": [
    {
      "cell_type": "markdown",
      "source": [
        "Boxplot"
      ],
      "metadata": {
        "id": "DmxP3aO5oDpX"
      }
    },
    {
      "cell_type": "code",
      "execution_count": 2,
      "metadata": {
        "colab": {
          "base_uri": "https://localhost:8080/",
          "height": 293
        },
        "id": "b_SJPJRqnLPG",
        "outputId": "5c126eb7-9b2f-4b7d-955d-4606ac01bb25"
      },
      "outputs": [
        {
          "output_type": "execute_result",
          "data": {
            "text/plain": [
              "<matplotlib.axes._subplots.AxesSubplot at 0x7f6d6c858450>"
            ]
          },
          "metadata": {},
          "execution_count": 2
        },
        {
          "output_type": "display_data",
          "data": {
            "text/plain": [
              "<Figure size 432x288 with 1 Axes>"
            ],
            "image/png": "[encoded data removed]"
          },
          "metadata": {
            "needs_background": "light"
          }
        }
      ],
      "source": [
        "import pandas as pn\n",
        "data = pn.read_csv('Cars.csv')\n",
        "x = data[['Cars']]\n",
        "# print(x)\n",
        "df = pn.DataFrame(x)\n",
        "x.boxplot()"
      ]
    },
    {
      "cell_type": "markdown",
      "source": [
        "Q3_3.Outlier.\n",
        "My choosen data has no outlier."
      ],
      "metadata": {
        "id": "6vAqfJ9ZoayN"
      }
    }
  ]
}